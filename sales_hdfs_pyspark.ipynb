{
 "cells": [
  {
   "cell_type": "code",
   "execution_count": 43,
   "id": "34b4f38d",
   "metadata": {},
   "outputs": [
    {
     "name": "stdout",
     "output_type": "stream",
     "text": [
      "Defaulting to user installation because normal site-packages is not writeable\n",
      "Requirement already satisfied: pyspark in /Users/monikarajput/Library/Python/3.9/lib/python/site-packages (3.4.0)\n",
      "Requirement already satisfied: py4j==0.10.9.7 in /Users/monikarajput/Library/Python/3.9/lib/python/site-packages (from pyspark) (0.10.9.7)\n",
      "\n",
      "\u001b[1m[\u001b[0m\u001b[34;49mnotice\u001b[0m\u001b[1;39;49m]\u001b[0m\u001b[39;49m A new release of pip is available: \u001b[0m\u001b[31;49m23.0.1\u001b[0m\u001b[39;49m -> \u001b[0m\u001b[32;49m23.1.2\u001b[0m\n",
      "\u001b[1m[\u001b[0m\u001b[34;49mnotice\u001b[0m\u001b[1;39;49m]\u001b[0m\u001b[39;49m To update, run: \u001b[0m\u001b[32;49m/Library/Developer/CommandLineTools/usr/bin/python3 -m pip install --upgrade pip\u001b[0m\n"
     ]
    }
   ],
   "source": [
    "#install pyspark\n",
    "!pip install pyspark\n"
   ]
  },
  {
   "cell_type": "code",
   "execution_count": 44,
   "id": "2f7e4efd",
   "metadata": {},
   "outputs": [],
   "source": [
    "#install pyspark and SQL\n",
    "import pyspark\n",
    "from pyspark.sql import SparkSession\n",
    "from pyspark.sql.types import StructType\n"
   ]
  },
  {
   "cell_type": "code",
   "execution_count": 45,
   "id": "7643c896",
   "metadata": {},
   "outputs": [],
   "source": [
    "spark=SparkSession.builder.master(\"local\").appName(\"hdfs_test\").getOrCreate()"
   ]
  },
  {
   "cell_type": "code",
   "execution_count": 46,
   "id": "2fb9b807",
   "metadata": {},
   "outputs": [],
   "source": [
    "salesdata=spark.read.csv(\"hdfs://127.0.0.1:9000/sales/Sales_April_2019.csv\",inferSchema=True, header=True)\n"
   ]
  },
  {
   "cell_type": "code",
   "execution_count": 47,
   "id": "f458c303",
   "metadata": {},
   "outputs": [
    {
     "name": "stdout",
     "output_type": "stream",
     "text": [
      "+--------+--------------------+----------------+----------+--------------+--------------------+\n",
      "|Order ID|             Product|Quantity Ordered|Price Each|    Order Date|    Purchase Address|\n",
      "+--------+--------------------+----------------+----------+--------------+--------------------+\n",
      "|  176558|USB-C Charging Cable|               2|     11.95|04/19/19 08:46|917 1st St, Dalla...|\n",
      "|    null|                null|            null|      null|          null|                null|\n",
      "|  176559|Bose SoundSport H...|               1|     99.99|04/07/19 22:30|682 Chestnut St, ...|\n",
      "|  176560|        Google Phone|               1|     600.0|04/12/19 14:38|669 Spruce St, Lo...|\n",
      "|  176560|    Wired Headphones|               1|     11.99|04/12/19 14:38|669 Spruce St, Lo...|\n",
      "+--------+--------------------+----------------+----------+--------------+--------------------+\n",
      "only showing top 5 rows\n",
      "\n"
     ]
    }
   ],
   "source": [
    "salesdata.show(5)"
   ]
  },
  {
   "cell_type": "code",
   "execution_count": 48,
   "id": "e0f2a2e5",
   "metadata": {},
   "outputs": [
    {
     "name": "stdout",
     "output_type": "stream",
     "text": [
      "root\n",
      " |-- Order ID: integer (nullable = true)\n",
      " |-- Product: string (nullable = true)\n",
      " |-- Quantity Ordered: integer (nullable = true)\n",
      " |-- Price Each: double (nullable = true)\n",
      " |-- Order Date: string (nullable = true)\n",
      " |-- Purchase Address: string (nullable = true)\n",
      "\n"
     ]
    }
   ],
   "source": [
    "#view schema\n",
    "salesdata.printSchema()"
   ]
  },
  {
   "cell_type": "code",
   "execution_count": 49,
   "id": "c7afa788",
   "metadata": {},
   "outputs": [
    {
     "name": "stderr",
     "output_type": "stream",
     "text": [
      "[Stage 29:>                                                         (0 + 1) / 1]\r"
     ]
    },
    {
     "name": "stdout",
     "output_type": "stream",
     "text": [
      "+-------+------------------+------------+-------------------+------------------+--------------+--------------------+\n",
      "|summary|          Order ID|     Product|   Quantity Ordered|        Price Each|    Order Date|    Purchase Address|\n",
      "+-------+------------------+------------+-------------------+------------------+--------------+--------------------+\n",
      "|  count|             18289|       18324|              18289|             18289|         18324|               18324|\n",
      "|   mean|185328.81672043304|        null| 1.1246104215648751|184.43102630000277|          null|                null|\n",
      "| stddev| 5061.520829296985|        null|0.43640973695741925| 330.9133771769665|          null|                null|\n",
      "|    min|            176558|20in Monitor|                  1|              2.99|04/01/19 03:09|1 14th St, New Yo...|\n",
      "|    max|            194094|      iPhone|                  7|            1700.0|    Order Date|    Purchase Address|\n",
      "+-------+------------------+------------+-------------------+------------------+--------------+--------------------+\n",
      "\n"
     ]
    },
    {
     "name": "stderr",
     "output_type": "stream",
     "text": [
      "                                                                                \r"
     ]
    }
   ],
   "source": [
    "#View statistical details of data like count, mean\n",
    "salesdata.describe().show()"
   ]
  },
  {
   "cell_type": "code",
   "execution_count": 50,
   "id": "4d64230b",
   "metadata": {},
   "outputs": [
    {
     "data": {
      "text/plain": [
       "['Order ID',\n",
       " 'Product',\n",
       " 'Quantity Ordered',\n",
       " 'Price Each',\n",
       " 'Order Date',\n",
       " 'Purchase Address']"
      ]
     },
     "execution_count": 50,
     "metadata": {},
     "output_type": "execute_result"
    }
   ],
   "source": [
    "#check the columns\n",
    "salesdata.columns"
   ]
  },
  {
   "cell_type": "code",
   "execution_count": 51,
   "id": "31ae2fce",
   "metadata": {},
   "outputs": [
    {
     "name": "stdout",
     "output_type": "stream",
     "text": [
      "+--------+--------------------+----------------+----------+--------------+--------------------+\n",
      "|Order ID|             Product|Quantity Ordered|Price Each|    Order Date|    Purchase Address|\n",
      "+--------+--------------------+----------------+----------+--------------+--------------------+\n",
      "|  176558|USB-C Charging Cable|               2|     11.95|04/19/19 08:46|917 1st St, Dalla...|\n",
      "|    null|                null|            null|      null|          null|                null|\n",
      "|  176559|Bose SoundSport H...|               1|     99.99|04/07/19 22:30|682 Chestnut St, ...|\n",
      "|  176560|        Google Phone|               1|     600.0|04/12/19 14:38|669 Spruce St, Lo...|\n",
      "|  176560|    Wired Headphones|               1|     11.99|04/12/19 14:38|669 Spruce St, Lo...|\n",
      "|  176561|    Wired Headphones|               1|     11.99|04/30/19 09:27|333 8th St, Los A...|\n",
      "|  176562|USB-C Charging Cable|               1|     11.95|04/29/19 13:03|381 Wilson St, Sa...|\n",
      "|  176563|Bose SoundSport H...|               1|     99.99|04/02/19 07:46|668 Center St, Se...|\n",
      "|  176564|USB-C Charging Cable|               1|     11.95|04/12/19 10:58|790 Ridge St, Atl...|\n",
      "|  176565|  Macbook Pro Laptop|               1|    1700.0|04/24/19 10:38|915 Willow St, Sa...|\n",
      "|  176566|    Wired Headphones|               1|     11.99|04/08/19 14:05|83 7th St, Boston...|\n",
      "|  176567|        Google Phone|               1|     600.0|04/18/19 17:18|444 7th St, Los A...|\n",
      "|  176568|Lightning Chargin...|               1|     14.95|04/15/19 12:18|438 Elm St, Seatt...|\n",
      "|  176569|27in 4K Gaming Mo...|               1|    389.99|04/16/19 19:23|657 Hill St, Dall...|\n",
      "|  176570|AA Batteries (4-p...|               1|      3.84|04/22/19 15:09|186 12th St, Dall...|\n",
      "|  176571|Lightning Chargin...|               1|     14.95|04/19/19 14:29|253 Johnson St, A...|\n",
      "|  176572|Apple Airpods Hea...|               1|     150.0|04/04/19 20:30|149 Dogwood St, N...|\n",
      "|  176573|USB-C Charging Cable|               1|     11.95|04/27/19 18:41|214 Chestnut St, ...|\n",
      "|  176574|        Google Phone|               1|     600.0|04/03/19 19:42|20 Hill St, Los A...|\n",
      "|  176574|USB-C Charging Cable|               1|     11.95|04/03/19 19:42|20 Hill St, Los A...|\n",
      "+--------+--------------------+----------------+----------+--------------+--------------------+\n",
      "only showing top 20 rows\n",
      "\n"
     ]
    }
   ],
   "source": [
    "salesdata.show()"
   ]
  },
  {
   "cell_type": "code",
   "execution_count": 52,
   "id": "af07fd2b",
   "metadata": {},
   "outputs": [
    {
     "name": "stdout",
     "output_type": "stream",
     "text": [
      "+--------+-------+----------------+----------+----------+----------------+\n",
      "|Order ID|Product|Quantity Ordered|Price Each|Order Date|Purchase Address|\n",
      "+--------+-------+----------------+----------+----------+----------------+\n",
      "|      94|     59|              94|        94|        59|              59|\n",
      "+--------+-------+----------------+----------+----------+----------------+\n",
      "\n"
     ]
    }
   ],
   "source": [
    "from pyspark.sql.functions import col,isnan, when, count\n",
    "salesdata.select([count(when(isnan(c) | col(c).isNull(), c)).alias(c) for c in salesdata.columns]\n",
    "   ).show()"
   ]
  },
  {
   "cell_type": "markdown",
   "id": "f8ab0819",
   "metadata": {},
   "source": [
    "# Question 1: What was the most productive month in terms of sales?\n"
   ]
  },
  {
   "cell_type": "code",
   "execution_count": 61,
   "id": "36196025",
   "metadata": {},
   "outputs": [
    {
     "name": "stdout",
     "output_type": "stream",
     "text": [
      "+--------+--------------------+----------------+----------+--------------+--------------------+\n",
      "|Order_ID|             Product|Quantity_Ordered|Price_Each|    Order_Date|    Purchase_Address|\n",
      "+--------+--------------------+----------------+----------+--------------+--------------------+\n",
      "|  176558|USB-C Charging Cable|               2|     11.95|04/19/19 08:46|917 1st St, Dalla...|\n",
      "|  176559|Bose SoundSport H...|               1|     99.99|04/07/19 22:30|682 Chestnut St, ...|\n",
      "|  176560|        Google Phone|               1|     600.0|04/12/19 14:38|669 Spruce St, Lo...|\n",
      "|  176560|    Wired Headphones|               1|     11.99|04/12/19 14:38|669 Spruce St, Lo...|\n",
      "|  176561|    Wired Headphones|               1|     11.99|04/30/19 09:27|333 8th St, Los A...|\n",
      "+--------+--------------------+----------------+----------+--------------+--------------------+\n",
      "only showing top 5 rows\n",
      "\n"
     ]
    }
   ],
   "source": [
    "#Rename the column\n",
    "\n",
    "from pyspark.sql.functions import month, sum\n",
    "\n",
    "columns = salesdata.columns\n",
    "new_columns = [col.replace(\" \", \"_\").replace(\"#\", \"\") for col in columns]\n",
    "df = salesdata.toDF(*new_columns)\n",
    "df.columns\n",
    "df.show(5)\n"
   ]
  },
  {
   "cell_type": "code",
   "execution_count": 63,
   "id": "f5f56837",
   "metadata": {},
   "outputs": [
    {
     "name": "stdout",
     "output_type": "stream",
     "text": [
      "+--------+--------------------+----------------+----------+--------------+--------------------+\n",
      "|Order ID|             Product|Quantity Ordered|Price Each|    Order Date|    Purchase Address|\n",
      "+--------+--------------------+----------------+----------+--------------+--------------------+\n",
      "|  176558|USB-C Charging Cable|               2|     11.95|04/19/19 08:46|917 1st St, Dalla...|\n",
      "|  176559|Bose SoundSport H...|               1|     99.99|04/07/19 22:30|682 Chestnut St, ...|\n",
      "|  176560|        Google Phone|               1|     600.0|04/12/19 14:38|669 Spruce St, Lo...|\n",
      "|  176560|    Wired Headphones|               1|     11.99|04/12/19 14:38|669 Spruce St, Lo...|\n",
      "|  176561|    Wired Headphones|               1|     11.99|04/30/19 09:27|333 8th St, Los A...|\n",
      "+--------+--------------------+----------------+----------+--------------+--------------------+\n",
      "only showing top 5 rows\n",
      "\n"
     ]
    }
   ],
   "source": [
    "#drop all null values\n",
    "salesdata = salesdata.dropna()\n",
    "salesdata.show(5)"
   ]
  },
  {
   "cell_type": "code",
   "execution_count": 64,
   "id": "ac1a1ae8",
   "metadata": {},
   "outputs": [
    {
     "name": "stdout",
     "output_type": "stream",
     "text": [
      "+--------+--------------------+----------------+----------+-------------------+--------------------+\n",
      "|Order_ID|             Product|Quantity_Ordered|Price_Each|         Order_Date|    Purchase_Address|\n",
      "+--------+--------------------+----------------+----------+-------------------+--------------------+\n",
      "|  176558|USB-C Charging Cable|               2|     11.95|2019-04-19 08:46:00|917 1st St, Dalla...|\n",
      "|  176559|Bose SoundSport H...|               1|     99.99|2019-04-07 22:30:00|682 Chestnut St, ...|\n",
      "|  176560|        Google Phone|               1|     600.0|2019-04-12 14:38:00|669 Spruce St, Lo...|\n",
      "|  176560|    Wired Headphones|               1|     11.99|2019-04-12 14:38:00|669 Spruce St, Lo...|\n",
      "|  176561|    Wired Headphones|               1|     11.99|2019-04-30 09:27:00|333 8th St, Los A...|\n",
      "+--------+--------------------+----------------+----------+-------------------+--------------------+\n",
      "only showing top 5 rows\n",
      "\n"
     ]
    }
   ],
   "source": [
    "#Update the data type of columns\n",
    "\n",
    "from pyspark.sql.functions import month, sum, col, to_timestamp\n",
    "df = df.withColumn(\"Quantity_Ordered\", df[\"Quantity_Ordered\"].cast(\"int\"))\n",
    "df = df.withColumn(\"Price_Each\", df[\"Price_Each\"].cast(\"double\"))\n",
    "df = df.withColumn(\"Order_Date\", to_timestamp(df[\"Order_Date\"], \"MM/dd/yy HH:mm\"))\n",
    "\n",
    "df.show(5)"
   ]
  },
  {
   "cell_type": "code",
   "execution_count": 66,
   "id": "ca660e06",
   "metadata": {},
   "outputs": [
    {
     "name": "stdout",
     "output_type": "stream",
     "text": [
      "+--------+--------------------+----------------+----------+-------------------+--------------------+-----------+-----+\n",
      "|Order_ID|             Product|Quantity_Ordered|Price_Each|         Order_Date|    Purchase_Address|Total_Sales|Month|\n",
      "+--------+--------------------+----------------+----------+-------------------+--------------------+-----------+-----+\n",
      "|  176558|USB-C Charging Cable|               2|     11.95|2019-04-19 08:46:00|917 1st St, Dalla...|       23.9|    4|\n",
      "|  176559|Bose SoundSport H...|               1|     99.99|2019-04-07 22:30:00|682 Chestnut St, ...|      99.99|    4|\n",
      "|  176560|        Google Phone|               1|     600.0|2019-04-12 14:38:00|669 Spruce St, Lo...|      600.0|    4|\n",
      "|  176560|    Wired Headphones|               1|     11.99|2019-04-12 14:38:00|669 Spruce St, Lo...|      11.99|    4|\n",
      "|  176561|    Wired Headphones|               1|     11.99|2019-04-30 09:27:00|333 8th St, Los A...|      11.99|    4|\n",
      "+--------+--------------------+----------------+----------+-------------------+--------------------+-----------+-----+\n",
      "only showing top 5 rows\n",
      "\n"
     ]
    }
   ],
   "source": [
    "# Add a new column for the total sales\n",
    "df = df.withColumn(\"Total_Sales\", df[\"Quantity_Ordered\"] * df[\"Price_Each\"])\n",
    "\n",
    "# Extract the month from the Order_Date\n",
    "df = df.withColumn(\"Month\", month(df[\"Order_Date\"]))\n",
    "df.show(5)\n",
    "\n"
   ]
  },
  {
   "cell_type": "code",
   "execution_count": 69,
   "id": "85836736",
   "metadata": {},
   "outputs": [
    {
     "name": "stdout",
     "output_type": "stream",
     "text": [
      "The most productive month in terms of sales is Month: 4\n",
      "Total Sales: $ 3385499.8200007016\n"
     ]
    }
   ],
   "source": [
    "# Group by Month and calculate the sum of Total_Sales\n",
    "monthly_sales = df.groupBy(\"Month\").agg(sum(\"Total_Sales\").alias(\"Total_Sales\"))\n",
    "\n",
    "# Find the month with the highest sales\n",
    "most_productive_month = monthly_sales.orderBy(\"Total_Sales\", ascending=False).first()\n",
    "\n",
    "\n",
    "# Extract the month number and total sales value\n",
    "\n",
    "month_number = most_productive_month[\"Month\"]\n",
    "total_sales = most_productive_month[\"Total_Sales\"]\n",
    "\n",
    "# Print the result\n",
    "print(\"The most productive month in terms of sales is Month:\", month_number)\n",
    "print(\"Total Sales: $\", total_sales)\n"
   ]
  },
  {
   "cell_type": "markdown",
   "id": "59dd02d4",
   "metadata": {},
   "source": [
    "# What City had the highest number of sales?\n"
   ]
  },
  {
   "cell_type": "code",
   "execution_count": 73,
   "id": "974ce4bd",
   "metadata": {},
   "outputs": [
    {
     "name": "stdout",
     "output_type": "stream",
     "text": [
      "+--------+--------------------+----------------+----------+-------------------+--------------------+-----------+-----+------------+\n",
      "|Order_ID|             Product|Quantity_Ordered|Price_Each|         Order_Date|    Purchase_Address|Total_Sales|Month|        City|\n",
      "+--------+--------------------+----------------+----------+-------------------+--------------------+-----------+-----+------------+\n",
      "|  176558|USB-C Charging Cable|               2|     11.95|2019-04-19 08:46:00|917 1st St, Dalla...|       23.9|    4|      Dallas|\n",
      "|  176559|Bose SoundSport H...|               1|     99.99|2019-04-07 22:30:00|682 Chestnut St, ...|      99.99|    4|      Boston|\n",
      "|  176560|        Google Phone|               1|     600.0|2019-04-12 14:38:00|669 Spruce St, Lo...|      600.0|    4| Los Angeles|\n",
      "|  176560|    Wired Headphones|               1|     11.99|2019-04-12 14:38:00|669 Spruce St, Lo...|      11.99|    4| Los Angeles|\n",
      "|  176561|    Wired Headphones|               1|     11.99|2019-04-30 09:27:00|333 8th St, Los A...|      11.99|    4| Los Angeles|\n",
      "+--------+--------------------+----------------+----------+-------------------+--------------------+-----------+-----+------------+\n",
      "only showing top 5 rows\n",
      "\n"
     ]
    }
   ],
   "source": [
    "# Extract the city from the Purchase Address column\n",
    "from pyspark.sql.functions import split, col, sum\n",
    "df = df.withColumn(\"City\", split(df[\"Purchase_Address\"], \",\")[1])\n",
    "df.show(5)"
   ]
  },
  {
   "cell_type": "code",
   "execution_count": 74,
   "id": "900c15a6",
   "metadata": {},
   "outputs": [
    {
     "name": "stdout",
     "output_type": "stream",
     "text": [
      "The city with the highest number of sales is:  San Francisco\n",
      "Total Sales: $ 817074.7699999722\n"
     ]
    }
   ],
   "source": [
    "# Group by City and calculate the sum of Total_Sales\n",
    "city_sales = df.groupBy(\"City\").agg(sum(\"Total_Sales\").alias(\"Total_Sales\"))\n",
    "\n",
    "# Find the city with the highest sales\n",
    "most_productive_city = city_sales.orderBy(\"Total_Sales\", ascending=False).first()\n",
    "\n",
    "if most_productive_city:\n",
    "    city_name = most_productive_city[\"City\"]\n",
    "    total_sales = most_productive_city[\"Total_Sales\"]\n",
    "\n",
    "    # Print the result\n",
    "    print(\"The city with the highest number of sales is:\", city_name)\n",
    "    print(\"Total Sales: $\", total_sales)\n",
    "else:\n",
    "    print(\"No data available for analysis.\")"
   ]
  },
  {
   "cell_type": "markdown",
   "id": "d8e53dc7",
   "metadata": {},
   "source": [
    "# What time should we display adverstisement to maximize likelihood of customer's buying product?"
   ]
  },
  {
   "cell_type": "code",
   "execution_count": 76,
   "id": "76efc088",
   "metadata": {},
   "outputs": [
    {
     "name": "stdout",
     "output_type": "stream",
     "text": [
      "The optimal time to display advertisements is: 19 o'clock\n",
      "Order Count:  1286\n"
     ]
    }
   ],
   "source": [
    "from pyspark.sql.functions import hour, count\n",
    "\n",
    "# Extract the hour from the \"Order_Date\" column\n",
    "df = df.withColumn(\"Order_Hour\", hour(df[\"Order_Date\"]))\n",
    "\n",
    "# Group by hour and calculate the count of orders\n",
    "hourly_orders = df.groupBy(\"Order_Hour\").agg(count(\"*\").alias(\"Order_Count\"))\n",
    "\n",
    "# Find the hour with the highest number of orders\n",
    "most_active_hour = hourly_orders.orderBy(\"Order_Count\", ascending=False).first()\n",
    "\n",
    "if most_active_hour:\n",
    "    hour_of_day = most_active_hour[\"Order_Hour\"]\n",
    "    order_count = most_active_hour[\"Order_Count\"]\n",
    "\n",
    "    # Print the result\n",
    "    print(\"The optimal time to display advertisements is:\", hour_of_day, \"o'clock\")\n",
    "    print(\"Order Count: \", order_count)\n",
    "else:\n",
    "    print(\"No data available for analysis.\")"
   ]
  },
  {
   "cell_type": "markdown",
   "id": "eb08a0dc",
   "metadata": {},
   "source": [
    "# What product sold the most? Why do you think it sold the most?\n"
   ]
  },
  {
   "cell_type": "code",
   "execution_count": 79,
   "id": "1bdbebe2",
   "metadata": {},
   "outputs": [
    {
     "name": "stdout",
     "output_type": "stream",
     "text": [
      "product sold the most :   AAA Batteries (4-pack)\n",
      "Total Quantity Sold:   2936\n"
     ]
    }
   ],
   "source": [
    "#Group by product and calculate the total sales of particular product\n",
    "product_sales=df.groupBy(\"Product\").agg(sum(\"Quantity_Ordered\").alias(\"Quantity_Ordered\"))\n",
    "\n",
    "#Find the product with the highest quantity sold\n",
    "most_sold_product= product_sales.orderBy((\"Quantity_Ordered\"), ascending=False).first()\n",
    "\n",
    "product_name=most_sold_product[\"Product\"]\n",
    "Quantity_sold=most_sold_product[\"Quantity_Ordered\"]\n",
    "\n",
    "# Print the result\n",
    "\n",
    "print(\"product sold the most :  \",product_name )\n",
    "print(\"Total Quantity Sold:  \", Quantity_sold)"
   ]
  },
  {
   "cell_type": "code",
   "execution_count": 80,
   "id": "2c7d2ed7",
   "metadata": {},
   "outputs": [
    {
     "name": "stdout",
     "output_type": "stream",
     "text": [
      "+--------+--------------------+----------------+----------+-------------------+--------------------+-----------+-----+--------------+----------+\n",
      "|Order_ID|             Product|Quantity_Ordered|Price_Each|         Order_Date|    Purchase_Address|Total_Sales|Month|          City|Order_Hour|\n",
      "+--------+--------------------+----------------+----------+-------------------+--------------------+-----------+-----+--------------+----------+\n",
      "|  176558|USB-C Charging Cable|               2|     11.95|2019-04-19 08:46:00|917 1st St, Dalla...|       23.9|    4|        Dallas|         8|\n",
      "|  176559|Bose SoundSport H...|               1|     99.99|2019-04-07 22:30:00|682 Chestnut St, ...|      99.99|    4|        Boston|        22|\n",
      "|  176560|        Google Phone|               1|     600.0|2019-04-12 14:38:00|669 Spruce St, Lo...|      600.0|    4|   Los Angeles|        14|\n",
      "|  176560|    Wired Headphones|               1|     11.99|2019-04-12 14:38:00|669 Spruce St, Lo...|      11.99|    4|   Los Angeles|        14|\n",
      "|  176561|    Wired Headphones|               1|     11.99|2019-04-30 09:27:00|333 8th St, Los A...|      11.99|    4|   Los Angeles|         9|\n",
      "|  176562|USB-C Charging Cable|               1|     11.95|2019-04-29 13:03:00|381 Wilson St, Sa...|      11.95|    4| San Francisco|        13|\n",
      "|  176563|Bose SoundSport H...|               1|     99.99|2019-04-02 07:46:00|668 Center St, Se...|      99.99|    4|       Seattle|         7|\n",
      "|  176564|USB-C Charging Cable|               1|     11.95|2019-04-12 10:58:00|790 Ridge St, Atl...|      11.95|    4|       Atlanta|        10|\n",
      "|  176565|  Macbook Pro Laptop|               1|    1700.0|2019-04-24 10:38:00|915 Willow St, Sa...|     1700.0|    4| San Francisco|        10|\n",
      "|  176566|    Wired Headphones|               1|     11.99|2019-04-08 14:05:00|83 7th St, Boston...|      11.99|    4|        Boston|        14|\n",
      "|  176567|        Google Phone|               1|     600.0|2019-04-18 17:18:00|444 7th St, Los A...|      600.0|    4|   Los Angeles|        17|\n",
      "|  176568|Lightning Chargin...|               1|     14.95|2019-04-15 12:18:00|438 Elm St, Seatt...|      14.95|    4|       Seattle|        12|\n",
      "|  176569|27in 4K Gaming Mo...|               1|    389.99|2019-04-16 19:23:00|657 Hill St, Dall...|     389.99|    4|        Dallas|        19|\n",
      "|  176570|AA Batteries (4-p...|               1|      3.84|2019-04-22 15:09:00|186 12th St, Dall...|       3.84|    4|        Dallas|        15|\n",
      "|  176571|Lightning Chargin...|               1|     14.95|2019-04-19 14:29:00|253 Johnson St, A...|      14.95|    4|       Atlanta|        14|\n",
      "|  176572|Apple Airpods Hea...|               1|     150.0|2019-04-04 20:30:00|149 Dogwood St, N...|      150.0|    4| New York City|        20|\n",
      "|  176573|USB-C Charging Cable|               1|     11.95|2019-04-27 18:41:00|214 Chestnut St, ...|      11.95|    4| San Francisco|        18|\n",
      "|  176574|        Google Phone|               1|     600.0|2019-04-03 19:42:00|20 Hill St, Los A...|      600.0|    4|   Los Angeles|        19|\n",
      "|  176574|USB-C Charging Cable|               1|     11.95|2019-04-03 19:42:00|20 Hill St, Los A...|      11.95|    4|   Los Angeles|        19|\n",
      "|  176575|AAA Batteries (4-...|               1|      2.99|2019-04-27 00:30:00|433 Hill St, New ...|       2.99|    4| New York City|         0|\n",
      "+--------+--------------------+----------------+----------+-------------------+--------------------+-----------+-----+--------------+----------+\n",
      "only showing top 20 rows\n",
      "\n"
     ]
    }
   ],
   "source": [
    "df.show()"
   ]
  },
  {
   "cell_type": "code",
   "execution_count": null,
   "id": "ee5c9a69",
   "metadata": {},
   "outputs": [],
   "source": [
    "# Save the processed DataFrame to HDFS\n",
    "df.write.format(\"csv\").mode(\"overwrite\").save(\"hdfs://127.0.0.1:9000/sales/result.csv\")"
   ]
  }
 ],
 "metadata": {
  "kernelspec": {
   "display_name": "Python 3 (ipykernel)",
   "language": "python",
   "name": "python3"
  },
  "language_info": {
   "codemirror_mode": {
    "name": "ipython",
    "version": 3
   },
   "file_extension": ".py",
   "mimetype": "text/x-python",
   "name": "python",
   "nbconvert_exporter": "python",
   "pygments_lexer": "ipython3",
   "version": "3.9.6"
  }
 },
 "nbformat": 4,
 "nbformat_minor": 5
}
